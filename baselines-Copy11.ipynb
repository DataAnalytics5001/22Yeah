{
 "cells": [
  {
   "cell_type": "markdown",
   "metadata": {},
   "source": [
    "# Read Data"
   ]
  },
  {
   "cell_type": "code",
   "execution_count": 9,
   "metadata": {
    "collapsed": false,
    "scrolled": true
   },
   "outputs": [
    {
     "ename": "ImportError",
     "evalue": "No module named cupy",
     "output_type": "error",
     "traceback": [
      "\u001b[0;31m---------------------------------------------------------------------------\u001b[0m",
      "\u001b[0;31mImportError\u001b[0m                               Traceback (most recent call last)",
      "\u001b[0;32m<ipython-input-9-ac0ddbdb8c91>\u001b[0m in \u001b[0;36m<module>\u001b[0;34m()\u001b[0m\n\u001b[0;32m----> 1\u001b[0;31m \u001b[0;32mimport\u001b[0m \u001b[0mcupy\u001b[0m \u001b[0;32mas\u001b[0m \u001b[0mcp\u001b[0m\u001b[0;34m\u001b[0m\u001b[0m\n\u001b[0m",
      "\u001b[0;31mImportError\u001b[0m: No module named cupy"
     ]
    }
   ],
   "source": [
    "import cupy as cp"
   ]
  },
  {
   "cell_type": "code",
   "execution_count": 1,
   "metadata": {
    "collapsed": false
   },
   "outputs": [
    {
     "name": "stdout",
     "output_type": "stream",
     "text": [
      "[[nan nan nan ..., 1.0 1.0 nan]\n",
      " [nan nan nan ..., nan nan nan]\n",
      " [nan nan nan ..., nan nan nan]\n",
      " ..., \n",
      " [nan nan nan ..., 1.0 2.0 1.0]\n",
      " [nan nan nan ..., 3.0 1.0 nan]\n",
      " [nan nan nan ..., nan 2.0 nan]] [[ nan  nan  nan ...,  nan  nan  nan]\n",
      " [ nan  nan  nan ...,  nan  nan  nan]\n",
      " [ nan  nan  nan ...,  nan  nan  nan]\n",
      " ..., \n",
      " [ nan  nan  nan ...,  nan  nan  nan]\n",
      " [ nan  nan  nan ...,  nan  nan  nan]\n",
      " [ nan  nan  nan ...,  nan  nan  nan]]\n"
     ]
    }
   ],
   "source": [
    "import csv\n",
    "import pandas\n",
    "import numpy\n",
    "if __name__ == \"__main__\":\n",
    "    dfApp = pandas.read_csv('data/app_dataframe_new.csv')\n",
    "    dfArt = pandas.read_csv('data/article.csv')\n",
    "\n",
    "    article = list(dfArt)\n",
    "    article = article[1:]\n",
    "    category = list(dfApp)\n",
    "    category = category[3:]\n",
    "    user = dfApp.user_code.tolist()\n",
    "    uid = dfApp.user_id.tolist()    \n",
    "    \n",
    "    #delete the column names and userids/usercodes, only keep the freq values\n",
    "    Uapp = dfApp.values\n",
    "    Uapp = numpy.delete(Uapp, numpy.s_[0:3], 1)\n",
    "    \n",
    "    #delete the column names and userids/usercodes, only keep the dwelltime values\n",
    "    dfArt.dropna(axis=1, how='all')\n",
    "    Uart = dfArt.values\n",
    "    Uart = numpy.delete(Uart, 0, 1)\n",
    "    \n",
    "    #to speed up, only use the top-20 to predict\n",
    "    user = user[:20]\n",
    "    uid = uid[:20]\n",
    "    Uapp = Uapp[:20]\n",
    "    Uart = Uart[:20]\n",
    "    \n",
    "    print Uapp,Uart\n"
   ]
  },
  {
   "cell_type": "code",
   "execution_count": 3,
   "metadata": {
    "collapsed": false
   },
   "outputs": [
    {
     "name": "stdout",
     "output_type": "stream",
     "text": [
      "54071\n"
     ]
    }
   ],
   "source": [
    "print len(Uart[0])"
   ]
  },
  {
   "cell_type": "code",
   "execution_count": 7,
   "metadata": {
    "collapsed": false
   },
   "outputs": [],
   "source": [
    "#delete articles with all nan values\n",
    "dfArtP = dfArt.dropna(axis=1, how='all')\n",
    "articleP = list(dfArtP)\n",
    "Uartp = dfArtP.values\n",
    "Uartp = numpy.delete(Uartp, 0, 1)\n",
    "Uartp = Uartp[:20]\n"
   ]
  },
  {
   "cell_type": "markdown",
   "metadata": {},
   "source": [
    "# Proposed Model: Collective Matrix Factorization"
   ]
  },
  {
   "cell_type": "code",
   "execution_count": 2,
   "metadata": {
    "collapsed": false
   },
   "outputs": [
    {
     "name": "stderr",
     "output_type": "stream",
     "text": [
      "/home/yukic/anaconda2/lib/python2.7/site-packages/ipykernel/__main__.py:28: FutureWarning: comparison to `None` will result in an elementwise object comparison in the future.\n",
      "/home/yukic/anaconda2/lib/python2.7/site-packages/ipykernel/__main__.py:35: FutureWarning: comparison to `None` will result in an elementwise object comparison in the future.\n",
      "/home/yukic/anaconda2/lib/python2.7/site-packages/ipykernel/__main__.py:57: FutureWarning: comparison to `None` will result in an elementwise object comparison in the future.\n"
     ]
    },
    {
     "name": "stdout",
     "output_type": "stream",
     "text": [
      "the loss is:\n",
      "240.940765324\n",
      "[[ 10.92175307   9.42674427  12.04506084 ...,  10.48764618  14.05591117\n",
      "   11.97393651]\n",
      " [  8.52127704   7.9174917   11.9840604  ...,  11.89235617  12.42876354\n",
      "   10.67145536]\n",
      " [ 11.1471215   10.46084603  15.58752386 ...,  15.42244032  16.32686009\n",
      "   13.60560391]\n",
      " ..., \n",
      " [  0.73930666   0.6191654    0.80275844 ...,   1.07204748   1.69398424\n",
      "    1.14633165]\n",
      " [  6.51509669   7.08241845   9.72195364 ...,   8.8728669   10.25361635\n",
      "    9.05135171]\n",
      " [  5.12535264   6.01674791   8.82800992 ...,   9.79184033  10.58502213\n",
      "    6.69879962]]\n"
     ]
    }
   ],
   "source": [
    "# -*- coding: utf-8 -*-\n",
    "\"\"\"\n",
    "Created on Tue Nov 14 16:10:11 2017\n",
    "@author: Mika\n",
    "\"\"\"\n",
    "\n",
    "import numpy.linalg as LA\n",
    "###############################################################################\n",
    "\n",
    "\"\"\"\n",
    "@INPUT:\n",
    "    R     : a matrix to be factorized, dimension N x M\n",
    "    I     : a matrix to be added,dimension N x C\n",
    "    P     : an initial matrix of dimension N x K\n",
    "    Q     : an initial matrix of dimension M x K\n",
    "    S     : an initial matrix of dimension C x K\n",
    "    K   : the number of latent features for R and I\n",
    "    R=P * Q;\n",
    "    I=P * S；\n",
    "    steps : the maximum number of steps to perform the optimisation\n",
    "    alpha : the learning rate\n",
    "    beta  : the regularization parameter\n",
    "@OUTPUT:\n",
    "    the final matrices P and Q and S\n",
    "\"\"\"    \n",
    "def collective_matrix_factorization(R, I, P, Q, S, K, steps=5000, lamda=0.6, alpha=0.0002, beta=0.02):\n",
    "    Q = Q.T\n",
    "    if S!=None:\n",
    "        S = S.T        \n",
    "    for step in xrange(steps):\n",
    "        for i in xrange(len(R)):\n",
    "            for j in xrange(len(R[i])):\n",
    "                if R[i][j] > 0:\n",
    "                    eij = R[i][j] - numpy.dot(P[i,:],Q[:,j])\n",
    "                    if I!=None:#have transfer learning#\n",
    "                        for x in xrange(len(I[i])):\n",
    "                            if I[i][x] >0:\n",
    "                                eix= I[i][x] - numpy.dot(P[i,:],S[:,x])\n",
    "                                for k in xrange(K):\n",
    "                                    P[i][k] = P[i][k] + alpha * (2 * lamda * eij * Q[k][j] + 2 * (1 - lamda) * eix * S[k][x] - beta * P[i][k])\n",
    "                                    Q[k][j] = Q[k][j] + alpha * (2 * lamda * eij * P[i][k] - beta * Q[k][j])\n",
    "                                    S[k][x] = S[k][x] + alpha * (2 * (1-lamda) * eix * P[i][k] - beta * S[k][x])          \n",
    "                    else:#no transfer learning#\n",
    "                        for k in xrange(K):\n",
    "                            P[i][k] = P[i][k] + alpha * (2 * eij * Q[k][j] - beta * P[i][k])\n",
    "                            Q[k][j] = Q[k][j] + alpha * (2 * eij * P[i][k] - beta * Q[k][j])\n",
    "        e_1=0\n",
    "        e_2=0\n",
    "        reg=0 \n",
    "        for i in xrange(len(R)):\n",
    "            for j in xrange(len(R[i])):\n",
    "                if R[i][j] > 0:\n",
    "                    e_1 = e_1 + pow(R[i][j] - numpy.dot(P[i,:],Q[:,j]), 2)\n",
    "                    for k in xrange(K):\n",
    "                        reg = reg + (beta/2) * ( pow(P[i][k],2) + pow(Q[k][j],2) )\n",
    "            \n",
    "        if I !=None:\n",
    "            for x in xrange(len(I[i])):\n",
    "                if I[i][x] > 0:\n",
    "                    e_2 = e_2 + pow(I[i][x] - numpy.dot(P[i,:],S[:,x]), 2)\n",
    "                    for k in xrange(K):\n",
    "                        reg = reg + (beta/2) * ( pow(S[k][x],2) )  \n",
    "        \n",
    "            e=lamda*e_1+(1-lamda)*e_2+reg\n",
    "        else:\n",
    "            e=e_1+reg\n",
    "        if e < 0.001:\n",
    "            break\n",
    "    print ('the loss is:')\n",
    "    print e\n",
    "    return P, Q.T\n",
    "\n",
    "def RMSE(X, Y):\n",
    "    S=pow(X-Y,2)\n",
    "    S=S.mean()\n",
    "    return numpy.sqrt(S.mean)\n",
    "###############################################################################\n",
    "\n",
    "if __name__ == \"__main__\":\n",
    "    \n",
    "    N3 = len(Uartp)#the row of R#\n",
    "\n",
    "    M3 = len(Uartp[1])#the colume of user*article#\n",
    "#    print M\n",
    "    K = 5\n",
    "    C = len(Uapp[1])#the colume of user*apps#\n",
    "\n",
    "    P = numpy.random.rand(N,K)\n",
    "    Q = numpy.random.rand(M,K)\n",
    "    S = numpy.random.rand(C,K)\n",
    "    nP, nQ = collective_matrix_factorization(Uartp,Uapp, P, Q, S, K)\n",
    "\n",
    "    nR=numpy.dot(nP,nQ.T)\n",
    "    print nR"
   ]
  },
  {
   "cell_type": "code",
   "execution_count": 10,
   "metadata": {
    "collapsed": false
   },
   "outputs": [
    {
     "name": "stderr",
     "output_type": "stream",
     "text": [
      "/home/yukic/anaconda2/lib/python2.7/site-packages/ipykernel/__main__.py:28: FutureWarning: comparison to `None` will result in an elementwise object comparison in the future.\n",
      "/home/yukic/anaconda2/lib/python2.7/site-packages/ipykernel/__main__.py:35: FutureWarning: comparison to `None` will result in an elementwise object comparison in the future.\n",
      "/home/yukic/anaconda2/lib/python2.7/site-packages/ipykernel/__main__.py:57: FutureWarning: comparison to `None` will result in an elementwise object comparison in the future.\n"
     ]
    },
    {
     "ename": "KeyboardInterrupt",
     "evalue": "",
     "output_type": "error",
     "traceback": [
      "\u001b[0;31m---------------------------------------------------------------------------\u001b[0m",
      "\u001b[0;31mKeyboardInterrupt\u001b[0m                         Traceback (most recent call last)",
      "\u001b[0;32m<ipython-input-10-9e0e021f3098>\u001b[0m in \u001b[0;36m<module>\u001b[0;34m()\u001b[0m\n\u001b[1;32m      5\u001b[0m \u001b[0mP3\u001b[0m \u001b[0;34m=\u001b[0m \u001b[0mnumpy\u001b[0m\u001b[0;34m.\u001b[0m\u001b[0mrandom\u001b[0m\u001b[0;34m.\u001b[0m\u001b[0mrand\u001b[0m\u001b[0;34m(\u001b[0m\u001b[0mN3\u001b[0m\u001b[0;34m,\u001b[0m\u001b[0mK\u001b[0m\u001b[0;34m)\u001b[0m\u001b[0;34m\u001b[0m\u001b[0m\n\u001b[1;32m      6\u001b[0m \u001b[0mQ3\u001b[0m \u001b[0;34m=\u001b[0m \u001b[0mnumpy\u001b[0m\u001b[0;34m.\u001b[0m\u001b[0mrandom\u001b[0m\u001b[0;34m.\u001b[0m\u001b[0mrand\u001b[0m\u001b[0;34m(\u001b[0m\u001b[0mM3\u001b[0m\u001b[0;34m,\u001b[0m\u001b[0mK\u001b[0m\u001b[0;34m)\u001b[0m\u001b[0;34m\u001b[0m\u001b[0m\n\u001b[0;32m----> 7\u001b[0;31m \u001b[0mnP3\u001b[0m\u001b[0;34m,\u001b[0m \u001b[0mnQ3\u001b[0m \u001b[0;34m=\u001b[0m \u001b[0mcollective_matrix_factorization\u001b[0m\u001b[0;34m(\u001b[0m\u001b[0mUartp\u001b[0m\u001b[0;34m,\u001b[0m\u001b[0mUapp\u001b[0m\u001b[0;34m,\u001b[0m \u001b[0mP3\u001b[0m\u001b[0;34m,\u001b[0m \u001b[0mQ3\u001b[0m\u001b[0;34m,\u001b[0m \u001b[0mS\u001b[0m\u001b[0;34m,\u001b[0m \u001b[0mK\u001b[0m\u001b[0;34m)\u001b[0m\u001b[0;34m\u001b[0m\u001b[0m\n\u001b[0m\u001b[1;32m      8\u001b[0m \u001b[0;34m\u001b[0m\u001b[0m\n\u001b[1;32m      9\u001b[0m \u001b[0mnR3\u001b[0m\u001b[0;34m=\u001b[0m\u001b[0mnumpy\u001b[0m\u001b[0;34m.\u001b[0m\u001b[0mdot\u001b[0m\u001b[0;34m(\u001b[0m\u001b[0mnP3\u001b[0m\u001b[0;34m,\u001b[0m\u001b[0mnQ3\u001b[0m\u001b[0;34m.\u001b[0m\u001b[0mT\u001b[0m\u001b[0;34m)\u001b[0m\u001b[0;34m\u001b[0m\u001b[0m\n",
      "\u001b[0;32m<ipython-input-2-7ff7215fca1b>\u001b[0m in \u001b[0;36mcollective_matrix_factorization\u001b[0;34m(R, I, P, Q, S, K, steps, lamda, alpha, beta)\u001b[0m\n\u001b[1;32m     31\u001b[0m         \u001b[0;32mfor\u001b[0m \u001b[0mi\u001b[0m \u001b[0;32min\u001b[0m \u001b[0mxrange\u001b[0m\u001b[0;34m(\u001b[0m\u001b[0mlen\u001b[0m\u001b[0;34m(\u001b[0m\u001b[0mR\u001b[0m\u001b[0;34m)\u001b[0m\u001b[0;34m)\u001b[0m\u001b[0;34m:\u001b[0m\u001b[0;34m\u001b[0m\u001b[0m\n\u001b[1;32m     32\u001b[0m             \u001b[0;32mfor\u001b[0m \u001b[0mj\u001b[0m \u001b[0;32min\u001b[0m \u001b[0mxrange\u001b[0m\u001b[0;34m(\u001b[0m\u001b[0mlen\u001b[0m\u001b[0;34m(\u001b[0m\u001b[0mR\u001b[0m\u001b[0;34m[\u001b[0m\u001b[0mi\u001b[0m\u001b[0;34m]\u001b[0m\u001b[0;34m)\u001b[0m\u001b[0;34m)\u001b[0m\u001b[0;34m:\u001b[0m\u001b[0;34m\u001b[0m\u001b[0m\n\u001b[0;32m---> 33\u001b[0;31m                 \u001b[0;32mif\u001b[0m \u001b[0mR\u001b[0m\u001b[0;34m[\u001b[0m\u001b[0mi\u001b[0m\u001b[0;34m]\u001b[0m\u001b[0;34m[\u001b[0m\u001b[0mj\u001b[0m\u001b[0;34m]\u001b[0m \u001b[0;34m>\u001b[0m \u001b[0;36m0\u001b[0m\u001b[0;34m:\u001b[0m\u001b[0;34m\u001b[0m\u001b[0m\n\u001b[0m\u001b[1;32m     34\u001b[0m                     \u001b[0meij\u001b[0m \u001b[0;34m=\u001b[0m \u001b[0mR\u001b[0m\u001b[0;34m[\u001b[0m\u001b[0mi\u001b[0m\u001b[0;34m]\u001b[0m\u001b[0;34m[\u001b[0m\u001b[0mj\u001b[0m\u001b[0;34m]\u001b[0m \u001b[0;34m-\u001b[0m \u001b[0mnumpy\u001b[0m\u001b[0;34m.\u001b[0m\u001b[0mdot\u001b[0m\u001b[0;34m(\u001b[0m\u001b[0mP\u001b[0m\u001b[0;34m[\u001b[0m\u001b[0mi\u001b[0m\u001b[0;34m,\u001b[0m\u001b[0;34m:\u001b[0m\u001b[0;34m]\u001b[0m\u001b[0;34m,\u001b[0m\u001b[0mQ\u001b[0m\u001b[0;34m[\u001b[0m\u001b[0;34m:\u001b[0m\u001b[0;34m,\u001b[0m\u001b[0mj\u001b[0m\u001b[0;34m]\u001b[0m\u001b[0;34m)\u001b[0m\u001b[0;34m\u001b[0m\u001b[0m\n\u001b[1;32m     35\u001b[0m                     \u001b[0;32mif\u001b[0m \u001b[0mI\u001b[0m\u001b[0;34m!=\u001b[0m\u001b[0mNone\u001b[0m\u001b[0;34m:\u001b[0m\u001b[0;31m#have transfer learning#\u001b[0m\u001b[0;34m\u001b[0m\u001b[0m\n",
      "\u001b[0;31mKeyboardInterrupt\u001b[0m: "
     ]
    }
   ],
   "source": [
    "    N3 = len(Uartp)#the row of R#\n",
    "\n",
    "    M3 = len(Uartp[1])#the colume of user*article#\n",
    "\n",
    "    P3 = numpy.random.rand(N3,K)\n",
    "    Q3 = numpy.random.rand(M3,K)\n",
    "    nP3, nQ3 = collective_matrix_factorization(Uartp,Uapp, P3, Q3, S, K)\n",
    "\n",
    "    nR3=numpy.dot(nP3,nQ3.T)\n",
    "    print nR3"
   ]
  },
  {
   "cell_type": "markdown",
   "metadata": {},
   "source": [
    "# Baseline 1 - Matrix Factorization"
   ]
  },
  {
   "cell_type": "code",
   "execution_count": 5,
   "metadata": {
    "collapsed": true
   },
   "outputs": [],
   "source": [
    "#######################################\n",
    "#  Baseline 1 - Matrix Factorization  #\n",
    "#######################################\n",
    "#!/usr/bin/python\n",
    "#\n",
    "# Created by Albert Au Yeung (2010)\n",
    "#\n",
    "# An implementation of matrix factorization\n",
    "#\n",
    "\n",
    "###############################################################################\n",
    "\n",
    "\"\"\"\n",
    "@INPUT:\n",
    "    R     : a matrix to be factorized, dimension N x M\n",
    "    P     : an initial matrix of dimension N x K\n",
    "    Q     : an initial matrix of dimension M x K\n",
    "    K     : the number of latent features\n",
    "    steps : the maximum number of steps to perform the optimisation\n",
    "    alpha : the learning rate\n",
    "    beta  : the regularization parameter\n",
    "@OUTPUT:\n",
    "    the final matrices P and Q\n",
    "\"\"\"\n",
    "def matrix_factorization(R, P, Q, K, steps=5000, alpha=0.0002, beta=0.02):\n",
    "    Q = Q.T\n",
    "    for step in xrange(steps):\n",
    "        for i in xrange(len(R)):\n",
    "            for j in xrange(len(R[i])):\n",
    "                if R[i][j] > 0:\n",
    "                    eij = R[i][j] - numpy.dot(P[i,:],Q[:,j])\n",
    "                    for k in xrange(K):\n",
    "                        P[i][k] = P[i][k] + alpha * (2 * eij * Q[k][j] - beta * P[i][k])\n",
    "                        Q[k][j] = Q[k][j] + alpha * (2 * eij * P[i][k] - beta * Q[k][j])\n",
    "        eR = numpy.dot(P,Q)\n",
    "        e = 0\n",
    "        for i in xrange(len(R)):\n",
    "            for j in xrange(len(R[i])):\n",
    "                if R[i][j] > 0:\n",
    "                    e = e + pow(R[i][j] - numpy.dot(P[i,:],Q[:,j]), 2)\n",
    "                    for k in xrange(K):\n",
    "                        e = e + (beta/2) * ( pow(P[i][k],2) + pow(Q[k][j],2) )\n",
    "        if e < 0.001:\n",
    "            break\n",
    "    return P, Q.T\n",
    "\n",
    "###############################################################################"
   ]
  },
  {
   "cell_type": "markdown",
   "metadata": {},
   "source": [
    "## Prediction "
   ]
  },
  {
   "cell_type": "code",
   "execution_count": 7,
   "metadata": {
    "collapsed": false
   },
   "outputs": [
    {
     "ename": "NameError",
     "evalue": "name 'nP' is not defined",
     "output_type": "error",
     "traceback": [
      "\u001b[0;31m---------------------------------------------------------------------------\u001b[0m",
      "\u001b[0;31mNameError\u001b[0m                                 Traceback (most recent call last)",
      "\u001b[0;32m<ipython-input-7-4510c952f960>\u001b[0m in \u001b[0;36m<module>\u001b[0;34m()\u001b[0m\n\u001b[1;32m      5\u001b[0m \u001b[0mQ1\u001b[0m \u001b[0;34m=\u001b[0m \u001b[0mnumpy\u001b[0m\u001b[0;34m.\u001b[0m\u001b[0mrandom\u001b[0m\u001b[0;34m.\u001b[0m\u001b[0mrand\u001b[0m\u001b[0;34m(\u001b[0m\u001b[0mM1\u001b[0m\u001b[0;34m,\u001b[0m\u001b[0mK1\u001b[0m\u001b[0;34m)\u001b[0m\u001b[0;34m\u001b[0m\u001b[0m\n\u001b[1;32m      6\u001b[0m \u001b[0mnP1\u001b[0m\u001b[0;34m,\u001b[0m \u001b[0mnQ1\u001b[0m \u001b[0;34m=\u001b[0m \u001b[0mmatrix_factorization\u001b[0m\u001b[0;34m(\u001b[0m\u001b[0mUart\u001b[0m\u001b[0;34m,\u001b[0m \u001b[0mP1\u001b[0m\u001b[0;34m,\u001b[0m \u001b[0mQ1\u001b[0m\u001b[0;34m,\u001b[0m \u001b[0mK1\u001b[0m\u001b[0;34m)\u001b[0m\u001b[0;34m\u001b[0m\u001b[0m\n\u001b[0;32m----> 7\u001b[0;31m \u001b[0mnR1\u001b[0m \u001b[0;34m=\u001b[0m \u001b[0mnumpy\u001b[0m\u001b[0;34m.\u001b[0m\u001b[0mdot\u001b[0m\u001b[0;34m(\u001b[0m\u001b[0mnP\u001b[0m\u001b[0;34m,\u001b[0m \u001b[0mnQ\u001b[0m\u001b[0;34m.\u001b[0m\u001b[0mT\u001b[0m\u001b[0;34m)\u001b[0m\u001b[0;34m\u001b[0m\u001b[0m\n\u001b[0m\u001b[1;32m      8\u001b[0m \u001b[0;32mprint\u001b[0m \u001b[0mnR1\u001b[0m\u001b[0;34m\u001b[0m\u001b[0m\n",
      "\u001b[0;31mNameError\u001b[0m: name 'nP' is not defined"
     ]
    }
   ],
   "source": [
    "N1 = len(Uart)\n",
    "M1 = len(Uart[0])\n",
    "K1 = 10\n",
    "P1 = numpy.random.rand(N1,K1)\n",
    "Q1 = numpy.random.rand(M1,K1)\n",
    "nP1, nQ1 = matrix_factorization(Uart, P1, Q1, K1)\n",
    "nR1 = numpy.dot(nP, nQ.T)\n",
    "print nR1"
   ]
  },
  {
   "cell_type": "code",
   "execution_count": 10,
   "metadata": {
    "collapsed": false
   },
   "outputs": [
    {
     "name": "stdout",
     "output_type": "stream",
     "text": [
      "[[ 13.22129478  15.69279804  20.60779168 ...,  19.20493175  15.37956037\n",
      "   14.79524474]\n",
      " [  9.81908417  13.35799222  15.63813441 ...,  15.02674457  12.82553556\n",
      "   14.17261944]\n",
      " [ 13.74309385  20.5247801   21.02819248 ...,  19.74240135  16.60512615\n",
      "   17.1042785 ]\n",
      " ..., \n",
      " [  1.79125159   2.35851272   1.93035058 ...,   2.39469861   2.18021667\n",
      "    2.25291844]\n",
      " [  9.90894749  12.95289356  14.52034103 ...,  13.88367714  11.93274785\n",
      "   13.09739762]\n",
      " [  7.93358586  12.34800328  13.96431173 ...,  13.93191535  11.45911791\n",
      "   10.95857606]]\n",
      "54071\n"
     ]
    }
   ],
   "source": [
    "nR1 = numpy.dot(nP1, nQ1.T)\n",
    "print nR1\n",
    "print len(nR1[0])"
   ]
  },
  {
   "cell_type": "markdown",
   "metadata": {},
   "source": [
    "## Final Result"
   ]
  },
  {
   "cell_type": "code",
   "execution_count": 13,
   "metadata": {
    "collapsed": false
   },
   "outputs": [
    {
     "name": "stdout",
     "output_type": "stream",
     "text": [
      "user # 0 00108FC5F1F3031ADD536548124A4912\n",
      "['25942', '27436', '44347', '53592', '22344']\n",
      "user # 1 00310455B7B24D5CDEC892351B8D1D51\n",
      "['25942', '27436', '44347', '53592', '25002']\n",
      "user # 2 00381B68ACD6CC83635CDDD9B40F0BAF\n",
      "['25942', '53592', '44347', '27436', '25002']\n",
      "user # 3 003B2215B070CDB50C0819C72E208F0A\n",
      "['25942', '44347', '21097', '53592', '27436']\n",
      "user # 4 003B8D414199B9C5EB7CF8C94BCC6787\n",
      "['25942', '27436', '44347', '25002', '22344']\n",
      "user # 5 0043B1ADB92D7265FCF0B744A42AAF05\n",
      "['25942', '44347', '27436', '53592', '34968']\n",
      "user # 6 00450B9C8D0055C699C03D6A0B1F6CE8\n",
      "['44347', '27436', '25942', '25002', '53592']\n",
      "user # 7 0049D0D7726B7A1DEFB26EFE6B336B38\n",
      "['44347', '25942', '27436', '25002', '44684']\n",
      "user # 8 004A20E76B5AFEBF06EC46D0FD33A404\n",
      "['25942', '44347', '27436', '53592', '25002']\n",
      "user # 9 004A5982BCE2DECD0622672F6DFE488E\n",
      "['25942', '53592', '44347', '27436', '25002']\n",
      "user # 10 0064E21780EE64B8C509AB0AA34F5EE6\n",
      "['53592', '25942', '27436', '44347', '34968']\n",
      "user # 11 00655FA53221463FF6900791BB1B55C4\n",
      "['53592', '25942', '44347', '27436', '25162']\n",
      "user # 12 006C8B449F56C9F3B779CBBA8AEE740B\n",
      "['25942', '44347', '27436', '25002', '44684']\n",
      "user # 13 00889B8C61B6549DE1A17EF80DBCE9A4\n",
      "['25942', '44347', '27436', '25002', '44684']\n",
      "user # 14 008F468ED81D8CEE56D77934C2E2DA6C\n",
      "['25942', '44347', '27436', '25002', '53592']\n",
      "user # 15 009D8C610CBB6526C22EC43721A53B9C\n",
      "['25942', '44347', '27436', '53592', '25002']\n",
      "user # 16 00A6069B98FA458F8C17E13891B0A546\n",
      "['53592', '25942', '44347', '27436', '34968']\n",
      "user # 17 00C28A31585EB6A4FBD52F502BF95A69\n",
      "['25942', '53592', '27436', '44347', '34968']\n",
      "user # 18 00CB66BC191EEEDB89EB30E616DBCD8D\n",
      "['25942', '44347', '27436', '25002', '44684']\n",
      "user # 19 00D16C54BF431D17BA13C2C51CE4128C\n",
      "['25942', '53592', '44347', '27436', '25002']\n"
     ]
    }
   ],
   "source": [
    "topR = []\n",
    "for i in range(nR1.shape[0]):\n",
    "    lineR = []\n",
    "    #return the index with ranked 1~5\n",
    "    subRank = nR1[i].argsort()[-5:][::-1]\n",
    "    print 'user #',user[i],uid[i]\n",
    "#     print subRank\n",
    "    for j in range(5):\n",
    "        tmp = article[subRank[j]]\n",
    "        lineR.append(tmp)\n",
    "    print lineR\n",
    "    \n",
    "# print topR"
   ]
  },
  {
   "cell_type": "code",
   "execution_count": 5,
   "metadata": {
    "collapsed": false
   },
   "outputs": [
    {
     "name": "stdout",
     "output_type": "stream",
     "text": [
      "user # 0 00108FC5F1F3031ADD536548124A4912\n",
      "['44347', '27436', '25002', '25942', '44684']\n",
      "['22344']\n",
      "user # 1 00310455B7B24D5CDEC892351B8D1D51\n",
      "['44347', '27436', '25942', '25002', '44684']\n",
      "['40351']\n",
      "user # 2 00381B68ACD6CC83635CDDD9B40F0BAF\n",
      "['44347', '27436', '25942', '25002', '44684']\n",
      "['12897', '16891', '35968', '19071', '40613']\n",
      "user # 3 003B2215B070CDB50C0819C72E208F0A\n",
      "['25942', '44347', '27436', '53592', '25002']\n",
      "['41089', '4367', '8597', '4283', '13976']\n",
      "user # 4 003B8D414199B9C5EB7CF8C94BCC6787\n",
      "['25942', '44347', '27436', '25002', '53592']\n",
      "[]\n",
      "user # 5 0043B1ADB92D7265FCF0B744A42AAF05\n",
      "['44347', '27436', '25942', '25002', '44684']\n",
      "['34968']\n",
      "user # 6 00450B9C8D0055C699C03D6A0B1F6CE8\n",
      "['44347', '27436', '25942', '25002', '44684']\n",
      "[]\n",
      "user # 7 0049D0D7726B7A1DEFB26EFE6B336B38\n",
      "['44347', '27436', '25002', '25942', '44684']\n",
      "[]\n",
      "user # 8 004A20E76B5AFEBF06EC46D0FD33A404\n",
      "['44347', '25942', '27436', '25002', '44684']\n",
      "['46595', '22512', '5905', '34612', '37315']\n",
      "user # 9 004A5982BCE2DECD0622672F6DFE488E\n",
      "['44347', '27436', '25002', '8597', '25942']\n",
      "[]\n",
      "user # 10 0064E21780EE64B8C509AB0AA34F5EE6\n",
      "['25942', '44347', '27436', '25002', '44684']\n",
      "['19664']\n",
      "user # 11 00655FA53221463FF6900791BB1B55C4\n",
      "['44347', '27436', '25942', '25002', '44684']\n",
      "['25162']\n",
      "user # 12 006C8B449F56C9F3B779CBBA8AEE740B\n",
      "['44347', '27436', '25002', '44684', '25942']\n",
      "['51694']\n",
      "user # 13 00889B8C61B6549DE1A17EF80DBCE9A4\n",
      "['44347', '27436', '25002', '25942', '44684']\n",
      "['12996', '19516', '7158', '33971', '5876']\n",
      "user # 14 008F468ED81D8CEE56D77934C2E2DA6C\n",
      "['44347', '27436', '25002', '25942', '44684']\n",
      "['52028', '27683', '40479', '50596', '43185']\n",
      "user # 15 009D8C610CBB6526C22EC43721A53B9C\n",
      "['44347', '27436', '25942', '25002', '44684']\n",
      "['35852']\n",
      "user # 16 00A6069B98FA458F8C17E13891B0A546\n",
      "['44347', '25942', '27436', '53592', '25002']\n",
      "['12383', '8834', '13805', '47562', '53592']\n",
      "user # 17 00C28A31585EB6A4FBD52F502BF95A69\n",
      "['44347', '27436', '25002', '44684', '17804']\n",
      "[]\n",
      "user # 18 00CB66BC191EEEDB89EB30E616DBCD8D\n",
      "['44347', '27436', '25942', '25002', '44684']\n",
      "['7083', '23120', '10170', '20655', '26346']\n",
      "user # 19 00D16C54BF431D17BA13C2C51CE4128C\n",
      "['44347', '27436', '25002', '25942', '44684']\n",
      "['9674']\n"
     ]
    }
   ],
   "source": [
    "import math\n",
    "topR1 = []\n",
    "for i in range(nR.shape[0]):\n",
    "    lineR1 = []\n",
    "    lineR2 = []\n",
    "    #return the index with ranked 1~5\n",
    "    subRank = nR[i].argsort()[-5:][::-1]\n",
    "    subRank2 = Uart[i].argsort()\n",
    "    print 'user #',user[i],uid[i]\n",
    "#     print subRank\n",
    "    for j in range(5):\n",
    "        tmp = article[subRank[j]]\n",
    "        tmp2 = article[subRank2[j]]\n",
    "        lineR1.append(tmp)\n",
    "    for k in range(nR.shape[0]):\n",
    "        if math.isnan(Uart[i][subRank2[k]]):\n",
    "            continue\n",
    "        tmp2 = article[subRank2[k]]\n",
    "        lineR2.append(tmp2)\n",
    "        if len(lineR2)==5:\n",
    "            break\n",
    "    print lineR1\n",
    "    print lineR2\n",
    "    \n",
    "# print topR"
   ]
  },
  {
   "cell_type": "code",
   "execution_count": 21,
   "metadata": {
    "collapsed": false
   },
   "outputs": [
    {
     "name": "stdout",
     "output_type": "stream",
     "text": [
      "user # 0 00108FC5F1F3031ADD536548124A4912\n",
      "['22344']\n",
      "user # 1 00310455B7B24D5CDEC892351B8D1D51\n",
      "['40351']\n",
      "user # 2 00381B68ACD6CC83635CDDD9B40F0BAF\n",
      "['12897', '16891', '35968', '19071', '40613']\n",
      "user # 3 003B2215B070CDB50C0819C72E208F0A\n",
      "['41089', '4367', '8597', '4283', '13976']\n",
      "user # 4 003B8D414199B9C5EB7CF8C94BCC6787\n",
      "[]\n",
      "user # 5 0043B1ADB92D7265FCF0B744A42AAF05\n",
      "['34968']\n",
      "user # 6 00450B9C8D0055C699C03D6A0B1F6CE8\n",
      "[]\n",
      "user # 7 0049D0D7726B7A1DEFB26EFE6B336B38\n",
      "[]\n",
      "user # 8 004A20E76B5AFEBF06EC46D0FD33A404\n",
      "['46595', '22512', '5905', '34612', '37315']\n",
      "user # 9 004A5982BCE2DECD0622672F6DFE488E\n",
      "[]\n",
      "user # 10 0064E21780EE64B8C509AB0AA34F5EE6\n",
      "['19664']\n",
      "user # 11 00655FA53221463FF6900791BB1B55C4\n",
      "['25162']\n",
      "user # 12 006C8B449F56C9F3B779CBBA8AEE740B\n",
      "['51694']\n",
      "user # 13 00889B8C61B6549DE1A17EF80DBCE9A4\n",
      "['12996', '19516', '7158', '33971', '5876']\n",
      "user # 14 008F468ED81D8CEE56D77934C2E2DA6C\n",
      "['52028', '27683', '40479', '50596', '43185']\n",
      "user # 15 009D8C610CBB6526C22EC43721A53B9C\n",
      "['35852']\n",
      "user # 16 00A6069B98FA458F8C17E13891B0A546\n",
      "['12383', '8834', '13805', '47562', '53592']\n",
      "user # 17 00C28A31585EB6A4FBD52F502BF95A69\n",
      "[]\n",
      "user # 18 00CB66BC191EEEDB89EB30E616DBCD8D\n",
      "['7083', '23120', '10170', '20655', '26346']\n",
      "user # 19 00D16C54BF431D17BA13C2C51CE4128C\n",
      "['9674']\n"
     ]
    }
   ],
   "source": [
    "# topR1 = []\n",
    "for i in range(nR.shape[0]):\n",
    "    lineR2 = []\n",
    "    #return the index with ranked 1~5\n",
    "    subRank2 = Uart[i].argsort()\n",
    "    print 'user #',user[i],uid[i]\n",
    "    for j in range(nR.shape[0]):\n",
    "        if math.isnan(Uart[i][subRank2[j]]):\n",
    "            continue\n",
    "        tmp2 = article[subRank2[j]]\n",
    "        lineR2.append(tmp2)\n",
    "        if len(lineR2)==5:\n",
    "            break\n",
    "    print lineR2\n",
    "    \n",
    "# print topR"
   ]
  },
  {
   "cell_type": "code",
   "execution_count": 17,
   "metadata": {
    "collapsed": false
   },
   "outputs": [
    {
     "ename": "SyntaxError",
     "evalue": "invalid syntax (<ipython-input-17-36bb4c8c0191>, line 1)",
     "output_type": "error",
     "traceback": [
      "\u001b[0;36m  File \u001b[0;32m\"<ipython-input-17-36bb4c8c0191>\"\u001b[0;36m, line \u001b[0;32m1\u001b[0m\n\u001b[0;31m    print dfArt.44347\u001b[0m\n\u001b[0m                    ^\u001b[0m\n\u001b[0;31mSyntaxError\u001b[0m\u001b[0;31m:\u001b[0m invalid syntax\n"
     ]
    }
   ],
   "source": [
    "print dfArt.44347"
   ]
  },
  {
   "cell_type": "code",
   "execution_count": null,
   "metadata": {
    "collapsed": true
   },
   "outputs": [],
   "source": []
  },
  {
   "cell_type": "markdown",
   "metadata": {
    "collapsed": true
   },
   "source": [
    "# Baseline 2 - ?"
   ]
  },
  {
   "cell_type": "code",
   "execution_count": 3,
   "metadata": {
    "collapsed": false
   },
   "outputs": [
    {
     "name": "stdout",
     "output_type": "stream",
     "text": [
      "[[None, None, None, None, None, None, None, None], [None, None, None, None, None, None, None, None], [None, None, None, None, None, None, None, None], [None, None, None, None, None, None, None, None], [None, None, None, None, None, None, None, None]]\n"
     ]
    }
   ],
   "source": [
    "#8*5 empty\n",
    "w, h = 8, 5;\n",
    "Matrix = [[None for x in range(w)] for y in range(h)] \n",
    "print Matrix"
   ]
  }
 ],
 "metadata": {
  "kernelspec": {
   "display_name": "Python 2",
   "language": "python",
   "name": "python2"
  },
  "language_info": {
   "codemirror_mode": {
    "name": "ipython",
    "version": 2
   },
   "file_extension": ".py",
   "mimetype": "text/x-python",
   "name": "python",
   "nbconvert_exporter": "python",
   "pygments_lexer": "ipython2",
   "version": "2.7.13"
  }
 },
 "nbformat": 4,
 "nbformat_minor": 2
}
