{
 "cells": [
  {
   "cell_type": "code",
   "execution_count": 49,
   "metadata": {
    "collapsed": true
   },
   "outputs": [],
   "source": [
    "import numpy as np\n",
    "\n",
    "def matrix_factorization(R, P, Q, K, steps=5000, alpha=0.0002, beta=0.02):\n",
    "    Q = Q.T\n",
    "    for step in range(steps):\n",
    "#         if step % 500 == 0:\n",
    "#             print(step)\n",
    "        \n",
    "        for i in range(len(R)):\n",
    "            for j in range(len(R[i])):\n",
    "                if R[i][j] > 0:\n",
    "                    eij = R[i][j] - np.dot(P[i,:],Q[:,j])\n",
    "                    for k in range(K):\n",
    "                        P[i][k] = P[i][k] + alpha * (2 * eij * Q[k][j] - beta * P[i][k])\n",
    "                        Q[k][j] = Q[k][j] + alpha * (2 * eij * P[i][k] - beta * Q[k][j])\n",
    "            \n",
    "#         eR = np.dot(P,Q)\n",
    "        e = 0\n",
    "#         e_loss = 0\n",
    "#         e_reg = 0\n",
    "        for i in range(len(R)):\n",
    "            for j in range(len(R[i])):\n",
    "                if R[i][j] > 0:\n",
    "                    e = e + pow(R[i][j] - np.dot(P[i,:],Q[:,j]), 2)\n",
    "#                     e_loss += pow(R[i][j] - np.dot(P[i,:],Q[:,j]), 2)\n",
    "                    for k in range(K):\n",
    "                        e = e + (beta/2) * (pow(P[i][k],2) + pow(Q[k][j],2))\n",
    "#                         e_reg += (beta/2) * (pow(P[i][k],2) + pow(Q[k][j],2))\n",
    "                    \n",
    "#         if step % 500 == 0:\n",
    "#             print(\"Iter {0}: LOSS: {1:.6f}, REG: {2:.6f}\".format(step / 50, e_loss, e_reg))\n",
    "            \n",
    "        if e < 0.001:\n",
    "            break\n",
    "            \n",
    "    return P, Q.T\n"
   ]
  },
  {
   "cell_type": "code",
   "execution_count": 50,
   "metadata": {
    "collapsed": true
   },
   "outputs": [],
   "source": [
    "def fast_matrix_factorization(R, P, Q, K, steps=5000, alpha=0.0002, beta=0.02):\n",
    "    r_plus_mask = np.where(R > 0)\n",
    "    \n",
    "    eij = R - np.dot(P, Q.T)\n",
    "    eij[R <= 0] = 0\n",
    "    r_plus_bin = np.sign(eij)\n",
    "    \n",
    "    PK_mask = np.repeat(np.sum(r_plus_bin, axis=1, keepdims=True), K, axis=1)\n",
    "    QK_mask = np.repeat(np.sum(r_plus_bin, axis=0, keepdims=True), K, axis=0)\n",
    "    \n",
    "    for step in range(steps):\n",
    "#         if step % 500 == 0:\n",
    "#             print(step)\n",
    "            \n",
    "        eij = R - np.dot(P, Q.T)\n",
    "        eij[R <= 0] = 0\n",
    "                \n",
    "        P += 2 * alpha * np.dot(eij, Q) - alpha * beta * np.multiply(P, PK_mask)\n",
    "        Q += 2 * alpha * np.dot(eij.T, P) - alpha * beta * np.multiply(Q.T, QK_mask).T\n",
    "\n",
    "#         eR = np.dot(P, Q.T)\n",
    "        e_loss = np.sum(np.power(R - np.dot(P, Q.T), 2)[r_plus_mask])\n",
    "        e_reg = (beta/2) * (np.sum(np.multiply(np.power(P, 2), PK_mask)) + np.sum(np.multiply(np.power(Q.T, 2), QK_mask)))\n",
    "#         e = e_loss + e_reg\n",
    "\n",
    "#         if step % 500 == 0:\n",
    "#             print(e_reg)\n",
    "#             print(\"Iter {0}: LOSS: {1:.6f}, REG: {2:.6f}\".format(step / 50, e_loss, e_reg))\n",
    "\n",
    "        if e_loss + e_reg < 0.001:\n",
    "            break\n",
    "    \n",
    "    return P, Q"
   ]
  },
  {
   "cell_type": "code",
   "execution_count": 51,
   "metadata": {
    "collapsed": true
   },
   "outputs": [],
   "source": [
    "# import cupy as cp\n",
    "# import time"
   ]
  },
  {
   "cell_type": "code",
   "execution_count": 52,
   "metadata": {
    "collapsed": true
   },
   "outputs": [],
   "source": [
    "R = [\n",
    "     [5,3,0,1],\n",
    "     [4,0,0,1],\n",
    "     [1,1,0,5],\n",
    "     [1,0,0,4],\n",
    "     [0,1,5,4],\n",
    "    ]\n",
    "\n",
    "R = np.array(R)\n",
    "\n",
    "M = len(R)\n",
    "N = len(R[0])\n",
    "K = 2\n",
    "\n",
    "_P = np.random.rand(M,K)\n",
    "_Q = np.random.rand(N,K)\n"
   ]
  },
  {
   "cell_type": "code",
   "execution_count": 53,
   "metadata": {
    "collapsed": true
   },
   "outputs": [],
   "source": [
    "P1 = _P.copy()\n",
    "P2 = _P.copy()\n",
    "P3 = _P.copy()\n",
    "Q1 = _Q.copy()\n",
    "Q2 = _Q.copy()\n",
    "Q3 = _Q.copy()"
   ]
  },
  {
   "cell_type": "code",
   "execution_count": 55,
   "metadata": {
    "scrolled": false
   },
   "outputs": [
    {
     "name": "stdout",
     "output_type": "stream",
     "text": [
      "[[ 4.98271884  2.96292742  5.85197762  1.00123113]\n",
      " [ 3.97458508  2.37476721  4.83646594  0.99932748]\n",
      " [ 1.04381908  0.88906911  5.22158016  4.96841378]\n",
      " [ 0.97735461  0.79441097  4.32263155  3.97741342]\n",
      " [ 1.56639949  1.13990182  4.94328278  4.01103349]]\n",
      "Base Line: 1.0313527584075928\n",
      "[[ 4.98764184  2.99513422  5.36737517  1.00036683]\n",
      " [ 3.99684358  2.41604851  4.49684213  1.0009248 ]\n",
      " [ 1.00544727  0.98607521  5.78742278  4.9932137 ]\n",
      " [ 0.99574565  0.90003221  4.78963641  3.98584978]\n",
      " [ 1.1933494   1.01726036  4.9846209   4.00749589]]\n",
      "Fast: 0.18752002716064453\n",
      "0.139669935988\n"
     ]
    }
   ],
   "source": [
    "import time\n",
    "\n",
    "\n",
    "start_time = time.time()\n",
    "nP, nQ = matrix_factorization(R, P1, Q1, K)\n",
    "nR1 = np.dot(nP, nQ.T)\n",
    "end_time = time.time() - start_time\n",
    "print(nR1)\n",
    "print(\"Base Line:\", end_time)\n",
    "\n",
    "start_time = time.time()\n",
    "nP, nQ = fast_matrix_factorization(R, P2, Q2, K)\n",
    "nR2 = np.dot(nP, nQ.T)\n",
    "end_time = time.time() - start_time\n",
    "print(nR2)\n",
    "print(\"Fast:\", end_time)\n",
    "\n",
    "# start_time = time.time()\n",
    "# R_gpu = cp.asarray(R)\n",
    "# P3_gpu = cp.asarray(P3)\n",
    "# Q3_gpu = cp.asarray(Q3)\n",
    "# print(R_gpu.device)\n",
    "# start_time = time.time()\n",
    "# nP, nQ = faster_matrix_factorization(R_gpu, P3_gpu, Q3_gpu, K)\n",
    "# nR3_gpu = cp.dot(nP, nQ.T)\n",
    "# end_time = time.time() - start_time\n",
    "# nR3 = cp.asnumpy(nR3_gpu)\n",
    "\n",
    "# print(nR3)\n",
    "# print(\"Cupy:\", end_time)\n",
    "\n",
    "print(np.sum(np.abs(nR1 - nR2)) / (M*N))\n"
   ]
  },
  {
   "cell_type": "code",
   "execution_count": null,
   "metadata": {
    "collapsed": true
   },
   "outputs": [],
   "source": []
  },
  {
   "cell_type": "code",
   "execution_count": null,
   "metadata": {
    "collapsed": true
   },
   "outputs": [],
   "source": []
  },
  {
   "cell_type": "code",
   "execution_count": null,
   "metadata": {
    "collapsed": true
   },
   "outputs": [],
   "source": []
  }
 ],
 "metadata": {
  "kernelspec": {
   "display_name": "Python 3",
   "language": "python",
   "name": "python3"
  },
  "language_info": {
   "codemirror_mode": {
    "name": "ipython",
    "version": 3
   },
   "file_extension": ".py",
   "mimetype": "text/x-python",
   "name": "python",
   "nbconvert_exporter": "python",
   "pygments_lexer": "ipython3",
   "version": "3.6.3"
  }
 },
 "nbformat": 4,
 "nbformat_minor": 2
}
