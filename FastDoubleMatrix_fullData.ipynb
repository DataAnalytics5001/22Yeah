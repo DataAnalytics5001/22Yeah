{
 "cells": [
  {
   "cell_type": "markdown",
   "metadata": {},
   "source": [
    "# Read Data"
   ]
  },
  {
   "cell_type": "code",
   "execution_count": 1,
   "metadata": {
    "collapsed": true
   },
   "outputs": [],
   "source": [
    "import csv\n",
    "import pandas\n",
    "import numpy as np\n",
    "\n",
    "dfApp = pandas.read_csv('data/APP_new_test.csv')\n",
    "dfArt = pandas.read_csv('data/testUADwell.csv')\n",
    "dfUser = pandas.read_csv('data/user_test.csv')\n",
    "dfArtCT = pandas.read_csv('data/test_train_articleID_codetable.csv')"
   ]
  },
  {
   "cell_type": "code",
   "execution_count": 2,
   "metadata": {
    "collapsed": true
   },
   "outputs": [],
   "source": [
    "article = dfArtCT.article_code.tolist()\n",
    "aid = dfArtCT.article_id.tolist()\n",
    "user = dfUser.user_code.tolist()\n",
    "uid = dfUser.user_id.tolist()    "
   ]
  },
  {
   "cell_type": "code",
   "execution_count": 6,
   "metadata": {
    "collapsed": false
   },
   "outputs": [
    {
     "name": "stdout",
     "output_type": "stream",
     "text": [
      "[[  0.           0.           0.         ...,  16.66666667   0.           0.        ]\n",
      " [  0.           0.           0.         ...,  16.66666667  15.625       62.5       ]\n",
      " [  0.           0.           0.         ...,   0.          31.25\n",
      "   20.83333333]\n",
      " ..., \n",
      " [  0.           0.           0.         ...,   0.           7.8125       0.        ]\n",
      " [  0.           0.           0.         ...,   0.           0.           0.        ]\n",
      " [  0.           0.           0.         ...,   0.          15.625        0.        ]]\n",
      "[[ nan  nan  nan ...,  nan  nan  nan]\n",
      " [ nan  nan  nan ...,  nan  nan  nan]\n",
      " [ nan  nan  nan ...,  nan  nan  nan]\n",
      " ..., \n",
      " [ nan  nan  nan ...,  nan  nan  nan]\n",
      " [ nan  nan  nan ...,  nan  nan  nan]\n",
      " [ nan  nan  nan ...,  nan  nan  nan]]\n"
     ]
    }
   ],
   "source": [
    "#delete the column names and userids/usercodes, only keep the freq values\n",
    "Uapp = dfApp.values\n",
    "Uapp = np.delete(Uapp, np.s_[0:2], 1)\n",
    "\n",
    "#delete the column names and userids/usercodes, only keep the dwelltime values\n",
    "#     dfArt.dropna(axis=1, how='all')\n",
    "Uart = dfArt.values\n",
    "Uart = np.delete(Uart, 0, 1)\n",
    "\n",
    "print Uapp\n",
    "print Uart"
   ]
  },
  {
   "cell_type": "code",
   "execution_count": 5,
   "metadata": {
    "collapsed": true
   },
   "outputs": [],
   "source": [
    "# #to speed up, only use the top-20 to predict\n",
    "# user = user[:20]\n",
    "# uid = uid[:20]\n",
    "# Uapp = Uapp[:20]\n",
    "# # Uart = Uart[:20]\n",
    "\n",
    "# # print(Uapp,Uart)"
   ]
  },
  {
   "cell_type": "code",
   "execution_count": 43,
   "metadata": {
    "collapsed": false
   },
   "outputs": [
    {
     "name": "stdout",
     "output_type": "stream",
     "text": [
      "[[ nan  nan  nan ...,  nan  nan  nan]\n",
      " [ nan  nan  nan ...,  nan  nan  nan]\n",
      " [ nan  nan  nan ...,  nan  nan  nan]\n",
      " ..., \n",
      " [ nan  nan  nan ...,  nan  nan  nan]\n",
      " [ nan  nan  nan ...,  nan  nan  nan]\n",
      " [ nan  nan  nan ...,  nan  nan  nan]]\n"
     ]
    }
   ],
   "source": [
    "#delete articles with all nan values\n",
    "dfArtP = dfArt.dropna(axis=1, how='all')\n",
    "# articleP = list(dfArtP)\n",
    "Uartp = dfArtP.values\n",
    "Uartp = np.delete(Uartp, 0, 1)\n",
    "# Uartp = Uartp[:20]\n",
    "print Uartp"
   ]
  },
  {
   "cell_type": "code",
   "execution_count": 41,
   "metadata": {
    "collapsed": false
   },
   "outputs": [
    {
     "name": "stdout",
     "output_type": "stream",
     "text": [
      "31655\n"
     ]
    }
   ],
   "source": [
    "print len(Uartp[0])"
   ]
  },
  {
   "cell_type": "markdown",
   "metadata": {},
   "source": [
    "# Proposed Model: Collective Matrix Factorization"
   ]
  },
  {
   "cell_type": "code",
   "execution_count": 7,
   "metadata": {
    "collapsed": true
   },
   "outputs": [],
   "source": [
    "# -*- coding: utf-8 -*-\n",
    "\"\"\"\n",
    "Created on Tue Nov 14 16:10:11 2017\n",
    "@author: Mika\n",
    "\"\"\"\n",
    "\n",
    "import numpy.linalg as LA\n",
    "###############################################################################\n",
    "\n",
    "\"\"\"\n",
    "@INPUT:\n",
    "    R     : a matrix to be factorized, dimension N x M\n",
    "    I     : a matrix to be added,dimension N x C\n",
    "    P     : an initial matrix of dimension N x K\n",
    "    Q     : an initial matrix of dimension M x K\n",
    "    S     : an initial matrix of dimension C x K\n",
    "    K   : the number of latent features for R and I\n",
    "    R=P * Q;\n",
    "    I=P * S；\n",
    "    steps : the maximum number of steps to perform the optimisation\n",
    "    alpha : the learning rate\n",
    "    beta  : the regularization parameter\n",
    "@OUTPUT:\n",
    "    the final matrices P and Q and S\n",
    "\"\"\"    \n",
    "def collective_matrix_factorization(R, I, P, Q, S, K, steps=5000, lamda=0.6, alpha=0.0002, beta=0.02):\n",
    "    Q = Q.T\n",
    "#     if S!=None:\n",
    "    S = S.T        \n",
    "    for step in range(steps):\n",
    "        print(step)\n",
    "        for i in range(len(R)):\n",
    "            for j in range(len(R[i])):\n",
    "                if R[i][j] > 0:\n",
    "                    eij = R[i][j] - cp.dot(P[i,:],Q[:,j])\n",
    "#                     if I!=None:#have transfer learning#\n",
    "                    for x in range(len(I[i])):\n",
    "                        if I[i][x] > 0:\n",
    "                            eix= I[i][x] - cp.dot(P[i,:],S[:,x])\n",
    "                            for k in range(K):\n",
    "                                P[i][k] = P[i][k] + alpha * (2 * lamda * eij * Q[k][j] + 2 * (1 - lamda) * eix * S[k][x] - beta * P[i][k])\n",
    "                                Q[k][j] = Q[k][j] + alpha * (2 * lamda * eij * P[i][k] - beta * Q[k][j])\n",
    "                                S[k][x] = S[k][x] + alpha * (2 * (1-lamda) * eix * P[i][k] - beta * S[k][x])          \n",
    "#                     else:#no transfer learning#\n",
    "#                         for k in xrange(K):\n",
    "#                             P[i][k] = P[i][k] + alpha * (2 * eij * Q[k][j] - beta * P[i][k])\n",
    "#                             Q[k][j] = Q[k][j] + alpha * (2 * eij * P[i][k] - beta * Q[k][j])\n",
    "        e_1=0\n",
    "        e_2=0\n",
    "        reg=0 \n",
    "        for i in range(len(R)):\n",
    "            for j in range(len(R[i])):\n",
    "                if R[i][j] > 0:\n",
    "                    e_1 = e_1 + pow(R[i][j] - cp.dot(P[i,:],Q[:,j]), 2)\n",
    "                    for k in range(K):\n",
    "                        reg = reg + (beta/2) * ( pow(P[i][k],2) + pow(Q[k][j],2) )\n",
    "            \n",
    "#         if I !=None:\n",
    "        for x in range(len(I[i])):\n",
    "            if I[i][x] > 0:\n",
    "                e_2 = e_2 + pow(I[i][x] - cp.dot(P[i,:],S[:,x]), 2)\n",
    "                for k in range(K):\n",
    "                    reg = reg + (beta/2) * ( pow(S[k][x],2) )  \n",
    "\n",
    "        e=lamda*e_1+(1-lamda)*e_2+reg\n",
    "#         else:\n",
    "#             e=e_1+reg\n",
    "        if e < 0.001:\n",
    "            break\n",
    "    print('the loss is:')\n",
    "    print(e)\n",
    "    return P, Q.T\n",
    "\n",
    "def RMSE(X, Y):\n",
    "    S=pow(X-Y,2)\n",
    "    S=S.mean()\n",
    "    return cp.sqrt(S.mean)\n",
    "###############################################################################\n",
    "\n",
    "# if __name__ == \"__main__\":\n",
    "    \n",
    "#     N3 = len(Uartp)#the row of R#\n",
    "\n",
    "#     M3 = len(Uartp[1])#the colume of user*article#\n",
    "# #    print M\n",
    "#     K = 5\n",
    "#     C = len(Uapp[1])#the colume of user*apps#\n",
    "\n",
    "#     P = numpy.random.rand(N,K)\n",
    "#     Q = numpy.random.rand(M,K)\n",
    "#     S = numpy.random.rand(C,K)\n",
    "#     nP, nQ = collective_matrix_factorization(Uartp,Uapp, P, Q, S, K)\n",
    "\n",
    "#     nR=numpy.dot(nP,nQ.T)\n",
    "#     print nR"
   ]
  },
  {
   "cell_type": "code",
   "execution_count": 34,
   "metadata": {
    "collapsed": true
   },
   "outputs": [],
   "source": [
    "def fast_double_matrix_factorization(R, I, P, Q, S, K, steps=5000, lamda=0.7, alpha=0.0002, beta=0.02): \n",
    "    R[np.isnan(R)] = 0 # Use np.isnan for csv\n",
    "    I[np.isnan(I)] = 0\n",
    "\n",
    "    r_plus_mask = np.where(R>0)\n",
    "    i_plus_mask = np.where(I>0)\n",
    "        \n",
    "    r_plus_bin = np.sign(R)    \n",
    "    i_plus_bin = np.sign(I)\n",
    "    \n",
    "#     IX_mask = np.repeat(np.multiply(np.sum(r_plus_bin, axis=1, keepdims=True), \\\n",
    "#                                     np.sum(i_plus_bin, axis=0, keepdims=True)), K, axis=1)\n",
    "    \n",
    "    PK_mask = np.repeat(np.sum(r_plus_bin, axis=1, keepdims=True), K, axis=1)\n",
    "    PK_mask += np.repeat(np.sum(i_plus_bin, axis=1, keepdims=True), K, axis=1)\n",
    "    QK_mask = np.repeat(np.sum(r_plus_bin, axis=0, keepdims=True), K, axis=0)\n",
    "    SK_mask = np.repeat(np.sum(i_plus_bin, axis=0, keepdims=True), K, axis=0)\n",
    "    \n",
    "    \n",
    "#     e = np.float64(0.0)\n",
    "#     prevE = np.float64(0.0) #tmp value of loss function\n",
    "    last_step = time.time()\n",
    "    \n",
    "    for step in range(steps):\n",
    "                \n",
    "        eij = R - np.dot(P,Q.T)\n",
    "        eix = I - np.dot(P,S.T)\n",
    "                \n",
    "        eij[np.where(R <= 0)] = 0\n",
    "        eix[np.where(I <= 0)] = 0\n",
    "        \n",
    "#         print(QK_mask.shape)\n",
    "        \n",
    "        P += 2 * alpha * (lamda * np.dot(eij, Q) + (1 - lamda) * np.dot(eix, S)) - alpha * beta * np.multiply(P, PK_mask)\n",
    "        Q += 2 * alpha * lamda * np.dot(eij.T, P) - alpha * beta * np.multiply(Q.T, QK_mask).T\n",
    "        S += 2 * alpha * (1 - lamda) * np.dot(eix.T, P) - alpha * beta * np.multiply(S.T, SK_mask).T\n",
    "        \n",
    "#         e1_loss = np.sum(np.power(R - np.dot(P, Q.T), 2)[r_plus_mask])\n",
    "#         e2_loss = np.sum(np.power(I - np.dot(P, S.T), 2)[i_plus_mask])\n",
    "        e1_loss = np.mean(np.power(R - np.dot(P, Q.T), 2)[r_plus_mask])\n",
    "        e2_loss = np.mean(np.power(I - np.dot(P, S.T), 2)[i_plus_mask])\n",
    "        e_reg = (beta/2) * (np.sum(np.multiply(np.power(P, 2), PK_mask)) + np.sum(np.multiply(np.power(Q.T, 2), QK_mask)) + np.sum(np.multiply(np.power(S.T, 2), SK_mask)))\n",
    "#         print e_reg\n",
    "\n",
    "        e = lamda * e1_loss + (1-lamda) * e2_loss + e_reg\n",
    "                \n",
    "        if step%50 == 0:\n",
    "            print time.time() - last_step\n",
    "            last_step = time.time()\n",
    "            print step\n",
    "            print e     \n",
    "        \n",
    "        print 'the loss ', e, 'in step ', step\n",
    "        \n",
    "#         if step > 0 and prevE - e < 0.01:\n",
    "#             break\n",
    "        \n",
    "#         prevE = e\n",
    "                \n",
    "    print ('the loss is:')\n",
    "    print (e)\n",
    "    print (e1_loss , e2_loss , e_reg)\n",
    "    return P, Q"
   ]
  },
  {
   "cell_type": "code",
   "execution_count": 10,
   "metadata": {
    "collapsed": false
   },
   "outputs": [
    {
     "name": "stdout",
     "output_type": "stream",
     "text": [
      "<type 'numpy.ndarray'>\n",
      "<type 'numpy.ndarray'>\n",
      "<type 'numpy.ndarray'>\n"
     ]
    }
   ],
   "source": [
    "print(type(Uart[0]))\n",
    "print(type(Uapp[0]))\n",
    "\n",
    "print(type(Uapp))\n",
    "Uappf = Uapp.astype(float)"
   ]
  },
  {
   "cell_type": "code",
   "execution_count": 39,
   "metadata": {
    "collapsed": false,
    "scrolled": false
   },
   "outputs": [
    {
     "name": "stdout",
     "output_type": "stream",
     "text": [
      "16.5463409424\n",
      "0\n",
      "73421.5334162\n",
      "the loss  73421.5334162 in step  0\n",
      "the loss  202275.844132 in step  1\n",
      "the loss  16492128.2788 in step  2\n"
     ]
    },
    {
     "ename": "KeyboardInterrupt",
     "evalue": "",
     "output_type": "error",
     "traceback": [
      "\u001b[0;31m---------------------------------------------------------------------------\u001b[0m",
      "\u001b[0;31mKeyboardInterrupt\u001b[0m                         Traceback (most recent call last)",
      "\u001b[0;32m<ipython-input-39-8f30e90afc4d>\u001b[0m in \u001b[0;36m<module>\u001b[0;34m()\u001b[0m\n\u001b[1;32m     10\u001b[0m \u001b[0mS\u001b[0m \u001b[0;34m=\u001b[0m \u001b[0mnp\u001b[0m\u001b[0;34m.\u001b[0m\u001b[0mrandom\u001b[0m\u001b[0;34m.\u001b[0m\u001b[0mrand\u001b[0m\u001b[0;34m(\u001b[0m\u001b[0mC\u001b[0m\u001b[0;34m,\u001b[0m\u001b[0mK\u001b[0m\u001b[0;34m)\u001b[0m\u001b[0;34m\u001b[0m\u001b[0m\n\u001b[1;32m     11\u001b[0m \u001b[0;34m\u001b[0m\u001b[0m\n\u001b[0;32m---> 12\u001b[0;31m \u001b[0mnP\u001b[0m\u001b[0;34m,\u001b[0m \u001b[0mnQ\u001b[0m \u001b[0;34m=\u001b[0m \u001b[0mfast_double_matrix_factorization\u001b[0m\u001b[0;34m(\u001b[0m\u001b[0mUartp\u001b[0m\u001b[0;34m,\u001b[0m \u001b[0mUappf\u001b[0m\u001b[0;34m,\u001b[0m \u001b[0mP\u001b[0m\u001b[0;34m,\u001b[0m \u001b[0mQ\u001b[0m\u001b[0;34m,\u001b[0m \u001b[0mS\u001b[0m\u001b[0;34m,\u001b[0m \u001b[0mK\u001b[0m\u001b[0;34m)\u001b[0m\u001b[0;34m\u001b[0m\u001b[0m\n\u001b[0m\u001b[1;32m     13\u001b[0m \u001b[0;34m\u001b[0m\u001b[0m\n\u001b[1;32m     14\u001b[0m \u001b[0mnR\u001b[0m \u001b[0;34m=\u001b[0m \u001b[0mnp\u001b[0m\u001b[0;34m.\u001b[0m\u001b[0mdot\u001b[0m\u001b[0;34m(\u001b[0m\u001b[0mnP\u001b[0m\u001b[0;34m,\u001b[0m\u001b[0mnQ\u001b[0m\u001b[0;34m.\u001b[0m\u001b[0mT\u001b[0m\u001b[0;34m)\u001b[0m\u001b[0;34m\u001b[0m\u001b[0m\n",
      "\u001b[0;32m<ipython-input-34-3c1d8e970a04>\u001b[0m in \u001b[0;36mfast_double_matrix_factorization\u001b[0;34m(R, I, P, Q, S, K, steps, lamda, alpha, beta)\u001b[0m\n\u001b[1;32m     27\u001b[0m         \u001b[0meix\u001b[0m \u001b[0;34m=\u001b[0m \u001b[0mI\u001b[0m \u001b[0;34m-\u001b[0m \u001b[0mnp\u001b[0m\u001b[0;34m.\u001b[0m\u001b[0mdot\u001b[0m\u001b[0;34m(\u001b[0m\u001b[0mP\u001b[0m\u001b[0;34m,\u001b[0m\u001b[0mS\u001b[0m\u001b[0;34m.\u001b[0m\u001b[0mT\u001b[0m\u001b[0;34m)\u001b[0m\u001b[0;34m\u001b[0m\u001b[0m\n\u001b[1;32m     28\u001b[0m \u001b[0;34m\u001b[0m\u001b[0m\n\u001b[0;32m---> 29\u001b[0;31m         \u001b[0meij\u001b[0m\u001b[0;34m[\u001b[0m\u001b[0mnp\u001b[0m\u001b[0;34m.\u001b[0m\u001b[0mwhere\u001b[0m\u001b[0;34m(\u001b[0m\u001b[0mR\u001b[0m \u001b[0;34m<=\u001b[0m \u001b[0;36m0\u001b[0m\u001b[0;34m)\u001b[0m\u001b[0;34m]\u001b[0m \u001b[0;34m=\u001b[0m \u001b[0;36m0\u001b[0m\u001b[0;34m\u001b[0m\u001b[0m\n\u001b[0m\u001b[1;32m     30\u001b[0m         \u001b[0meix\u001b[0m\u001b[0;34m[\u001b[0m\u001b[0mnp\u001b[0m\u001b[0;34m.\u001b[0m\u001b[0mwhere\u001b[0m\u001b[0;34m(\u001b[0m\u001b[0mI\u001b[0m \u001b[0;34m<=\u001b[0m \u001b[0;36m0\u001b[0m\u001b[0;34m)\u001b[0m\u001b[0;34m]\u001b[0m \u001b[0;34m=\u001b[0m \u001b[0;36m0\u001b[0m\u001b[0;34m\u001b[0m\u001b[0m\n\u001b[1;32m     31\u001b[0m \u001b[0;34m\u001b[0m\u001b[0m\n",
      "\u001b[0;31mKeyboardInterrupt\u001b[0m: "
     ]
    }
   ],
   "source": [
    "import time\n",
    "\n",
    "N = len(Uartp)#the row of R#\n",
    "M = len(Uartp[0])#the colume of user*article#\n",
    "K = 5\n",
    "C = len(Uapp[0])\n",
    "\n",
    "P = np.random.rand(N,K)\n",
    "Q = np.random.rand(M,K)\n",
    "S = np.random.rand(C,K)\n",
    "\n",
    "nP, nQ = fast_double_matrix_factorization(Uartp, Uappf, P, Q, S, K)\n",
    "\n",
    "nR = np.dot(nP,nQ.T)\n",
    "print(nR)"
   ]
  },
  {
   "cell_type": "markdown",
   "metadata": {},
   "source": [
    "# Baseline 1 - Matrix Factorization"
   ]
  },
  {
   "cell_type": "code",
   "execution_count": null,
   "metadata": {
    "collapsed": true
   },
   "outputs": [],
   "source": [
    "#######################################\n",
    "#  Baseline 1 - Matrix Factorization  #\n",
    "#######################################\n",
    "#!/usr/bin/python\n",
    "#\n",
    "# Created by Albert Au Yeung (2010)\n",
    "#\n",
    "# An implementation of matrix factorization\n",
    "#\n",
    "\n",
    "###############################################################################\n",
    "\n",
    "\"\"\"\n",
    "@INPUT:\n",
    "    R     : a matrix to be factorized, dimension N x M\n",
    "    P     : an initial matrix of dimension N x K\n",
    "    Q     : an initial matrix of dimension M x K\n",
    "    K     : the number of latent features\n",
    "    steps : the maximum number of steps to perform the optimisation\n",
    "    alpha : the learning rate\n",
    "    beta  : the regularization parameter\n",
    "@OUTPUT:\n",
    "    the final matrices P and Q\n",
    "\"\"\"\n",
    "def matrix_factorization(R, P, Q, K, steps=5000, alpha=0.0002, beta=0.02):\n",
    "    Q = Q.T\n",
    "    for step in xrange(steps):\n",
    "        for i in xrange(len(R)):\n",
    "            for j in xrange(len(R[i])):\n",
    "                if R[i][j] > 0:\n",
    "                    eij = R[i][j] - numpy.dot(P[i,:],Q[:,j])\n",
    "                    for k in xrange(K):\n",
    "                        P[i][k] = P[i][k] + alpha * (2 * eij * Q[k][j] - beta * P[i][k])\n",
    "                        Q[k][j] = Q[k][j] + alpha * (2 * eij * P[i][k] - beta * Q[k][j])\n",
    "        eR = numpy.dot(P,Q)\n",
    "        e = 0\n",
    "        for i in xrange(len(R)):\n",
    "            for j in xrange(len(R[i])):\n",
    "                if R[i][j] > 0:\n",
    "                    e = e + pow(R[i][j] - numpy.dot(P[i,:],Q[:,j]), 2)\n",
    "                    for k in xrange(K):\n",
    "                        e = e + (beta/2) * ( pow(P[i][k],2) + pow(Q[k][j],2) )\n",
    "        if e < 0.001:\n",
    "            break\n",
    "    return P, Q.T\n",
    "\n",
    "###############################################################################"
   ]
  },
  {
   "cell_type": "markdown",
   "metadata": {},
   "source": [
    "## Prediction "
   ]
  },
  {
   "cell_type": "code",
   "execution_count": null,
   "metadata": {
    "collapsed": true
   },
   "outputs": [],
   "source": [
    "N1 = len(Uart)\n",
    "M1 = len(Uart[0])\n",
    "K1 = 10\n",
    "P1 = numpy.random.rand(N1,K1)\n",
    "Q1 = numpy.random.rand(M1,K1)\n",
    "nP1, nQ1 = matrix_factorization(Uart, P1, Q1, K1)\n",
    "nR1 = numpy.dot(nP, nQ.T)\n",
    "print nR1"
   ]
  },
  {
   "cell_type": "code",
   "execution_count": null,
   "metadata": {
    "collapsed": true
   },
   "outputs": [],
   "source": [
    "nR1 = numpy.dot(nP1, nQ1.T)\n",
    "print nR1\n",
    "print len(nR1[0])"
   ]
  },
  {
   "cell_type": "markdown",
   "metadata": {},
   "source": [
    "## Final Result"
   ]
  },
  {
   "cell_type": "code",
   "execution_count": null,
   "metadata": {
    "collapsed": true
   },
   "outputs": [],
   "source": [
    "topR = []\n",
    "for i in range(nR1.shape[0]):\n",
    "    lineR = []\n",
    "    #return the index with ranked 1~5\n",
    "    subRank = nR1[i].argsort()[-5:][::-1]\n",
    "    print 'user #',user[i],uid[i]\n",
    "#     print subRank\n",
    "    for j in range(5):\n",
    "        tmp = article[subRank[j]]\n",
    "        lineR.append(tmp)\n",
    "    print lineR\n",
    "    \n",
    "# print topR"
   ]
  },
  {
   "cell_type": "code",
   "execution_count": 62,
   "metadata": {
    "collapsed": false
   },
   "outputs": [
    {
     "name": "stdout",
     "output_type": "stream",
     "text": [
      "user # 0 00108FC5F1F3031ADD536548124A4912\n",
      "['39169', '10523', '19069', '6570', '41177']\n",
      "['22344']\n",
      "user # 1 00310455B7B24D5CDEC892351B8D1D51\n",
      "['39169', '10523', '19069', '6570', '37911']\n",
      "['40351']\n",
      "user # 2 00381B68ACD6CC83635CDDD9B40F0BAF\n",
      "['10523', '39169', '19069', '6570', '37065']\n",
      "['12897', '16891', '35968', '19071', '40613']\n",
      "user # 3 003B2215B070CDB50C0819C72E208F0A\n",
      "['39169', '2518', '19069', '10523', '6570']\n",
      "['41089', '4367', '8597', '4283', '13976']\n",
      "user # 4 003B8D414199B9C5EB7CF8C94BCC6787\n",
      "['10523', '19069', '6570', '41177', '29901']\n",
      "[]\n",
      "user # 5 0043B1ADB92D7265FCF0B744A42AAF05\n",
      "['39169', '10523', '19069', '6570', '37065']\n",
      "['34968']\n",
      "user # 6 00450B9C8D0055C699C03D6A0B1F6CE8\n",
      "['2325', '10523', '13666', '37911', '39169']\n",
      "[]\n",
      "user # 7 0049D0D7726B7A1DEFB26EFE6B336B38\n",
      "['10523', '39169', '19069', '6570', '41177']\n",
      "[]\n",
      "user # 8 004A20E76B5AFEBF06EC46D0FD33A404\n",
      "['39169', '10523', '19069', '6570', '41177']\n",
      "['46595', '22512', '5905', '34612', '37315']\n",
      "user # 9 004A5982BCE2DECD0622672F6DFE488E\n",
      "['10523', '41177', '29901', '39169', '19069']\n",
      "[]\n",
      "user # 10 0064E21780EE64B8C509AB0AA34F5EE6\n",
      "['39169', '41177', '10523', '2518', '19069']\n",
      "['19664']\n",
      "user # 11 00655FA53221463FF6900791BB1B55C4\n",
      "['10523', '19069', '6570', '39169', '37065']\n",
      "['25162']\n",
      "user # 12 006C8B449F56C9F3B779CBBA8AEE740B\n",
      "['39169', '10523', '19069', '6570', '37065']\n",
      "['51694']\n",
      "user # 13 00889B8C61B6549DE1A17EF80DBCE9A4\n",
      "['10523', '39169', '19069', '6570', '37065']\n",
      "['12996', '19516', '7158', '33971', '5876']\n",
      "user # 14 008F468ED81D8CEE56D77934C2E2DA6C\n",
      "['39169', '10523', '19069', '6570', '37065']\n",
      "['52028', '27683', '40479', '50596', '43185']\n",
      "user # 15 009D8C610CBB6526C22EC43721A53B9C\n",
      "['39169', '10523', '19069', '6570', '41177']\n",
      "['35852']\n",
      "user # 16 00A6069B98FA458F8C17E13891B0A546\n",
      "['39169', '10523', '19069', '6570', '37065']\n",
      "['12383', '8834', '13805', '47562', '53592']\n",
      "user # 17 00C28A31585EB6A4FBD52F502BF95A69\n",
      "['10523', '41177', '19069', '39169', '29901']\n",
      "[]\n",
      "user # 18 00CB66BC191EEEDB89EB30E616DBCD8D\n",
      "['39169', '10523', '19069', '6570', '37065']\n",
      "['7083', '23120', '10170', '20655', '26346']\n",
      "user # 19 00D16C54BF431D17BA13C2C51CE4128C\n",
      "['39169', '10523', '19069', '6570', '37911']\n",
      "['9674']\n"
     ]
    }
   ],
   "source": [
    "nR = nR3.copy()\n",
    "\n",
    "import math\n",
    "topR1 = []\n",
    "for i in range(nR.shape[0]):\n",
    "    lineR1 = []\n",
    "    lineR2 = []\n",
    "    #return the index with ranked 1~5\n",
    "    subRank = nR[i].argsort()[-5:][::-1]\n",
    "    subRank2 = Uart[i].argsort()\n",
    "    print ('user #',user[i],uid[i])\n",
    "#     print subRank\n",
    "    for j in range(5):\n",
    "        tmp = articleP[subRank[j]]\n",
    "#         tmp2 = article[subRank2[j]]\n",
    "        lineR1.append(tmp)\n",
    "    for k in range(nR.shape[0]):\n",
    "        if math.isnan(Uart[i][subRank2[k]]):\n",
    "            continue\n",
    "        tmp2 = article[subRank2[k]]\n",
    "        lineR2.append(tmp2)\n",
    "        if len(lineR2)==5:\n",
    "            break\n",
    "    print (lineR1)\n",
    "    print (lineR2)\n",
    "    \n",
    "# print topR"
   ]
  },
  {
   "cell_type": "code",
   "execution_count": null,
   "metadata": {
    "collapsed": true
   },
   "outputs": [],
   "source": [
    "# topR1 = []\n",
    "for i in range(nR.shape[0]):\n",
    "    lineR2 = []\n",
    "    #return the index with ranked 1~5\n",
    "    subRank2 = Uart[i].argsort()\n",
    "    print 'user #',user[i],uid[i]\n",
    "    for j in range(nR.shape[0]):\n",
    "        if math.isnan(Uart[i][subRank2[j]]):\n",
    "            continue\n",
    "        tmp2 = article[subRank2[j]]\n",
    "        lineR2.append(tmp2)\n",
    "        if len(lineR2)==5:\n",
    "            break\n",
    "    print lineR2\n",
    "    \n",
    "# print topR"
   ]
  },
  {
   "cell_type": "code",
   "execution_count": null,
   "metadata": {
    "collapsed": true
   },
   "outputs": [],
   "source": [
    "print dfArt.44347"
   ]
  },
  {
   "cell_type": "code",
   "execution_count": null,
   "metadata": {
    "collapsed": true
   },
   "outputs": [],
   "source": []
  },
  {
   "cell_type": "markdown",
   "metadata": {
    "collapsed": true
   },
   "source": [
    "# Baseline 2 - ?"
   ]
  },
  {
   "cell_type": "code",
   "execution_count": null,
   "metadata": {
    "collapsed": true
   },
   "outputs": [],
   "source": [
    "#8*5 empty\n",
    "w, h = 8, 5;\n",
    "Matrix = [[None for x in range(w)] for y in range(h)] \n",
    "print Matrix"
   ]
  }
 ],
 "metadata": {
  "kernelspec": {
   "display_name": "Python 2",
   "language": "python",
   "name": "python2"
  },
  "language_info": {
   "codemirror_mode": {
    "name": "ipython",
    "version": 2
   },
   "file_extension": ".py",
   "mimetype": "text/x-python",
   "name": "python",
   "nbconvert_exporter": "python",
   "pygments_lexer": "ipython2",
   "version": "2.7.13"
  }
 },
 "nbformat": 4,
 "nbformat_minor": 2
}
